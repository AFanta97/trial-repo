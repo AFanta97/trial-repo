{
  "metadata": {
    "kernelspec": {
      "name": "python",
      "display_name": "Python (Pyodide)",
      "language": "python"
    },
    "language_info": {
      "codemirror_mode": {
        "name": "python",
        "version": 3
      },
      "file_extension": ".py",
      "mimetype": "text/x-python",
      "name": "python",
      "nbconvert_exporter": "python",
      "pygments_lexer": "ipython3",
      "version": "3.8"
    }
  },
  "nbformat_minor": 4,
  "nbformat": 4,
  "cells": [
    {
      "cell_type": "markdown",
      "source": "# Exercise 2 - Title of the Notebook\nData Science Notebook for Exercises",
      "metadata": {}
    },
    {
      "cell_type": "markdown",
      "source": "# Exercise 3 - Introduction\nThis notebook contains a series of exercises to practice basic Data Science concepts and Jupyter Notebook operations. It includes examples of markdown usage, basic arithmetic operations, and a summary of essential tools and languages used in Data Science.",
      "metadata": {}
    },
    {
      "cell_type": "markdown",
      "source": "# Exercise 4 - Data Science Languages\nSome popular languages used in Data Science are:\n- Python\n- R\n- SQL\n- Julia\n- Scala\n- Java",
      "metadata": {}
    },
    {
      "cell_type": "markdown",
      "source": "# Exercise 5 - Data Science Libraries\nSome commonly used libraries for Data Science are:\n- NumPy\n- Pandas\n- Matplotlib\n- Scikit-learn\n- TensorFlow\n- PyTorch\n- Seaborn\n- Keras\n",
      "metadata": {}
    },
    {
      "cell_type": "markdown",
      "source": "# Exercise 6 - Data Science Tools\n| Tool           | Description                          |\n|----------------|--------------------------------------|\n| Jupyter Notebook | Interactive coding and documentation |\n| RStudio        | IDE for R programming                |\n| Apache Spark   | Big data processing framework        |\n| Tableau        | Data visualization tool              |\n| KNIME          | Workflow-based analytics tool        |\n",
      "metadata": {}
    },
    {
      "cell_type": "markdown",
      "source": "# Exercise 7 - Arithmetic Expression Examples\nThis section contains examples of basic arithmetic expressions to demonstrate operations like addition, multiplication, and division.\n",
      "metadata": {}
    },
    {
      "cell_type": "code",
      "source": "# Exercise 8 - Multiply and Add Numbers\n# Multiplying 5 and 7, then adding 10\nresult = (5 * 7) + 10\nresult\n",
      "metadata": {
        "trusted": true
      },
      "outputs": [
        {
          "execution_count": 2,
          "output_type": "execute_result",
          "data": {
            "text/plain": "45"
          },
          "metadata": {}
        }
      ],
      "execution_count": 2
    },
    {
      "cell_type": "code",
      "source": "# Exercise 9 - Convert Minutes to Hours\n# Convert 120 minutes to hours\nminutes = 120\nhours = minutes / 60\nhours\n",
      "metadata": {
        "trusted": true
      },
      "outputs": [
        {
          "execution_count": 3,
          "output_type": "execute_result",
          "data": {
            "text/plain": "2.0"
          },
          "metadata": {}
        }
      ],
      "execution_count": 3
    },
    {
      "cell_type": "markdown",
      "source": "# Exercise 10 - Objectives\nThe objectives of this notebook are:\n- Learn to use Jupyter Notebook effectively.\n- Practice creating markdown cells and code cells.\n- Gain familiarity with Data Science tools, languages, and libraries.\n- Perform basic arithmetic operations using Python.\n",
      "metadata": {}
    },
    {
      "cell_type": "markdown",
      "source": "# Exercise 11 - Author\n**Author:** Andrea\n",
      "metadata": {}
    }
  ]
}